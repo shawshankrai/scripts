{
 "cells": [
  {
   "cell_type": "code",
   "execution_count": 96,
   "metadata": {},
   "outputs": [],
   "source": [
    "import os\n",
    "import boto3"
   ]
  },
  {
   "cell_type": "code",
   "execution_count": 97,
   "metadata": {},
   "outputs": [
    {
     "data": {
      "text/plain": [
       "'us-east-1'"
      ]
     },
     "execution_count": 97,
     "metadata": {},
     "output_type": "execute_result"
    }
   ],
   "source": [
    "os.environ.setdefault('AWS_PROFILE', 'shashank-iam')\n",
    "os.environ.setdefault('AWS_DEFAULT_REGION', 'us-east-1')"
   ]
  },
  {
   "cell_type": "code",
   "execution_count": 98,
   "metadata": {},
   "outputs": [],
   "source": [
    "cluster_name = 'EMR-Spark-Hive-EBS32'\n",
    "elastic_ip_name = 'EMR Master IP'\n",
    "\n",
    "emr_client = boto3.client('emr')\n",
    "clusters = emr_client.list_clusters(ClusterStates=['RUNNING', 'WAITING'])['Clusters']"
   ]
  },
  {
   "cell_type": "code",
   "execution_count": 99,
   "metadata": {},
   "outputs": [
    {
     "name": "stdout",
     "output_type": "stream",
     "text": [
      "j-1PM7CKA00PQOF\n"
     ]
    }
   ],
   "source": [
    "cluster_id = ''\n",
    "\n",
    "for cluster in clusters:\n",
    "    if cluster['Name'] == cluster_name:\n",
    "        cluster_id = cluster['Id']\n",
    "\n",
    "print(cluster_id)"
   ]
  },
  {
   "cell_type": "code",
   "execution_count": 100,
   "metadata": {},
   "outputs": [],
   "source": [
    "cluster_details = emr_client.describe_cluster(ClusterId=cluster_id)"
   ]
  },
  {
   "cell_type": "code",
   "execution_count": 101,
   "metadata": {},
   "outputs": [
    {
     "name": "stdout",
     "output_type": "stream",
     "text": [
      "ec2-3-89-159-93.compute-1.amazonaws.com\n"
     ]
    }
   ],
   "source": [
    "master_public_dns = cluster_details['Cluster']['MasterPublicDnsName']\n",
    "print(master_public_dns)"
   ]
  },
  {
   "cell_type": "code",
   "execution_count": 102,
   "metadata": {},
   "outputs": [
    {
     "name": "stdout",
     "output_type": "stream",
     "text": [
      "i-0b63c12d0f4ea08a6\n"
     ]
    }
   ],
   "source": [
    "# master node instance id\n",
    "master_node_instance_id = ''\n",
    "instances = emr_client.list_instances(ClusterId=cluster_id)['Instances']\n",
    "for instance in instances:\n",
    "    if instance['PublicDnsName'] == master_public_dns:\n",
    "        master_node_instance_id = instance['Ec2InstanceId']\n",
    "\n",
    "print(master_node_instance_id)"
   ]
  },
  {
   "cell_type": "code",
   "execution_count": 103,
   "metadata": {},
   "outputs": [],
   "source": [
    "ec2_client = boto3.client('ec2')\n"
   ]
  },
  {
   "cell_type": "code",
   "execution_count": 104,
   "metadata": {},
   "outputs": [
    {
     "name": "stdout",
     "output_type": "stream",
     "text": [
      "eipalloc-04e0463716d90d021\n"
     ]
    }
   ],
   "source": [
    "# paid elastic ip\n",
    "allocation_id = ''\n",
    "\n",
    "elastic_ips = ec2_client.describe_addresses()['Addresses']\n",
    "for elastic_ip in elastic_ips:\n",
    "    if elastic_ip['Tags']:\n",
    "        for tag in elastic_ip['Tags']:\n",
    "            if tag['Key'] == 'Name' and tag['Value'] == elastic_ip_name:\n",
    "                allocation_id = elastic_ip['AllocationId']\n",
    "\n",
    "print(allocation_id)"
   ]
  },
  {
   "cell_type": "code",
   "execution_count": 105,
   "metadata": {},
   "outputs": [
    {
     "name": "stdout",
     "output_type": "stream",
     "text": [
      "i-0b63c12d0f4ea08a6\n",
      "eipalloc-04e0463716d90d021\n"
     ]
    },
    {
     "data": {
      "text/plain": [
       "{'AssociationId': 'eipassoc-0de18b7d7dc97257d',\n",
       " 'ResponseMetadata': {'RequestId': '93331709-ca5e-4231-897d-38d18d08422b',\n",
       "  'HTTPStatusCode': 200,\n",
       "  'HTTPHeaders': {'x-amzn-requestid': '93331709-ca5e-4231-897d-38d18d08422b',\n",
       "   'cache-control': 'no-cache, no-store',\n",
       "   'strict-transport-security': 'max-age=31536000; includeSubDomains',\n",
       "   'content-type': 'text/xml;charset=UTF-8',\n",
       "   'content-length': '295',\n",
       "   'date': 'Sun, 11 Sep 2022 10:36:10 GMT',\n",
       "   'server': 'AmazonEC2'},\n",
       "  'RetryAttempts': 0}}"
      ]
     },
     "execution_count": 105,
     "metadata": {},
     "output_type": "execute_result"
    }
   ],
   "source": [
    "print(master_node_instance_id)\n",
    "print(allocation_id)\n",
    "\n",
    "ec2_client.associate_address(AllocationId = allocation_id, InstanceId=master_node_instance_id)"
   ]
  }
 ],
 "metadata": {
  "kernelspec": {
   "display_name": "Python 3.10.5 ('.venv': venv)",
   "language": "python",
   "name": "python3"
  },
  "language_info": {
   "codemirror_mode": {
    "name": "ipython",
    "version": 3
   },
   "file_extension": ".py",
   "mimetype": "text/x-python",
   "name": "python",
   "nbconvert_exporter": "python",
   "pygments_lexer": "ipython3",
   "version": "3.10.5"
  },
  "orig_nbformat": 4,
  "vscode": {
   "interpreter": {
    "hash": "12f7551d6fabf5f350422d9c3a1d22c3a94ee22fb1f63a11dc53a681a6b21a77"
   }
  }
 },
 "nbformat": 4,
 "nbformat_minor": 2
}
